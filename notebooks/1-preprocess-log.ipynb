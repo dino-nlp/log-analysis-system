{
 "cells": [
  {
   "cell_type": "code",
   "execution_count": 1,
   "metadata": {},
   "outputs": [],
   "source": [
    "import sys\n",
    "sys.path.append(\"../\")\n",
    "\n",
    "from config import config\n",
    "from drain3 import TemplateMiner\n",
    "from drain3.template_miner_config import TemplateMinerConfig\n",
    "from drain3.file_persistence import FilePersistence"
   ]
  },
  {
   "cell_type": "code",
   "execution_count": 2,
   "metadata": {},
   "outputs": [
    {
     "ename": "AttributeError",
     "evalue": "'TemplateMinerConfig' object has no attribute 'DRAIN3_CONFIG'",
     "output_type": "error",
     "traceback": [
      "\u001b[0;31m---------------------------------------------------------------------------\u001b[0m",
      "\u001b[0;31mAttributeError\u001b[0m                            Traceback (most recent call last)",
      "Cell \u001b[0;32mIn[2], line 4\u001b[0m\n\u001b[1;32m      2\u001b[0m persistence \u001b[39m=\u001b[39m FilePersistence(config\u001b[39m.\u001b[39mDRAIN3_FILE_PERSISTENCE)\n\u001b[1;32m      3\u001b[0m config \u001b[39m=\u001b[39m TemplateMinerConfig()\n\u001b[0;32m----> 4\u001b[0m config\u001b[39m.\u001b[39mload(config\u001b[39m.\u001b[39;49mDRAIN3_CONFIG)\n\u001b[1;32m      5\u001b[0m config\u001b[39m.\u001b[39mprofiling_enabled \u001b[39m=\u001b[39m \u001b[39mTrue\u001b[39;00m\n\u001b[1;32m      6\u001b[0m template_miner \u001b[39m=\u001b[39m TemplateMiner(persistence, config)\n",
      "\u001b[0;31mAttributeError\u001b[0m: 'TemplateMinerConfig' object has no attribute 'DRAIN3_CONFIG'"
     ]
    }
   ],
   "source": [
    "# Config drain3\n",
    "persistence = FilePersistence(config.DRAIN3_FILE_PERSISTENCE)\n",
    "drain_config = TemplateMinerConfig()\n",
    "drain_config.load(config.DRAIN3_CONFIG)\n",
    "drain_config.profiling_enabled = True\n",
    "template_miner = TemplateMiner(persistence, drain_config)"
   ]
  },
  {
   "cell_type": "code",
   "execution_count": null,
   "metadata": {},
   "outputs": [],
   "source": []
  }
 ],
 "metadata": {
  "kernelspec": {
   "display_name": "Python 3",
   "language": "python",
   "name": "python3"
  },
  "language_info": {
   "codemirror_mode": {
    "name": "ipython",
    "version": 3
   },
   "file_extension": ".py",
   "mimetype": "text/x-python",
   "name": "python",
   "nbconvert_exporter": "python",
   "pygments_lexer": "ipython3",
   "version": "3.9.16"
  },
  "orig_nbformat": 4
 },
 "nbformat": 4,
 "nbformat_minor": 2
}
