{
 "cells": [
  {
   "cell_type": "code",
   "execution_count": 27,
   "metadata": {},
   "outputs": [],
   "source": [
    "import sys\n",
    "sys.path.append(\"../\")\n",
    "\n",
    "from config import config\n",
    "from drain3 import TemplateMiner\n",
    "from drain3.template_miner_config import TemplateMinerConfig\n",
    "from drain3.file_persistence import FilePersistence"
   ]
  },
  {
   "cell_type": "code",
   "execution_count": 28,
   "metadata": {},
   "outputs": [
    {
     "data": {
      "text/html": [
       "<pre style=\"white-space:pre;overflow-x:auto;line-height:normal;font-family:Menlo,'DejaVu Sans Mono',consolas,'Courier New',monospace\"><span style=\"color: #7fbfbf; text-decoration-color: #7fbfbf\">[05/31/23 13:50:57] </span><span style=\"color: #000080; text-decoration-color: #000080\">INFO    </span> Starting Drain3 template miner                                    <a href=\"file:///Volumes/Data/projects/log-analysis-system/.venv/lib/python3.9/site-packages/drain3/template_miner.py\" target=\"_blank\"><span style=\"color: #7f7f7f; text-decoration-color: #7f7f7f\">template_miner.py</span></a><span style=\"color: #7f7f7f; text-decoration-color: #7f7f7f\">:</span><a href=\"file:///Volumes/Data/projects/log-analysis-system/.venv/lib/python3.9/site-packages/drain3/template_miner.py#37\" target=\"_blank\"><span style=\"color: #7f7f7f; text-decoration-color: #7f7f7f\">37</span></a>\n",
       "</pre>\n"
      ],
      "text/plain": [
       "\u001b[2;36m[05/31/23 13:50:57]\u001b[0m\u001b[2;36m \u001b[0m\u001b[34mINFO    \u001b[0m Starting Drain3 template miner                                    \u001b]8;id=507514;file:///Volumes/Data/projects/log-analysis-system/.venv/lib/python3.9/site-packages/drain3/template_miner.py\u001b\\\u001b[2mtemplate_miner.py\u001b[0m\u001b]8;;\u001b\\\u001b[2m:\u001b[0m\u001b]8;id=932515;file:///Volumes/Data/projects/log-analysis-system/.venv/lib/python3.9/site-packages/drain3/template_miner.py#37\u001b\\\u001b[2m37\u001b[0m\u001b]8;;\u001b\\\n"
      ]
     },
     "metadata": {},
     "output_type": "display_data"
    },
    {
     "data": {
      "text/html": [
       "<pre style=\"white-space:pre;overflow-x:auto;line-height:normal;font-family:Menlo,'DejaVu Sans Mono',consolas,'Courier New',monospace\"><span style=\"color: #7fbfbf; text-decoration-color: #7fbfbf\">                    </span><span style=\"color: #000080; text-decoration-color: #000080\">INFO    </span> Checking for saved state                                          <a href=\"file:///Volumes/Data/projects/log-analysis-system/.venv/lib/python3.9/site-packages/drain3/template_miner.py\" target=\"_blank\"><span style=\"color: #7f7f7f; text-decoration-color: #7f7f7f\">template_miner.py</span></a><span style=\"color: #7f7f7f; text-decoration-color: #7f7f7f\">:</span><a href=\"file:///Volumes/Data/projects/log-analysis-system/.venv/lib/python3.9/site-packages/drain3/template_miner.py#70\" target=\"_blank\"><span style=\"color: #7f7f7f; text-decoration-color: #7f7f7f\">70</span></a>\n",
       "</pre>\n"
      ],
      "text/plain": [
       "\u001b[2;36m                   \u001b[0m\u001b[2;36m \u001b[0m\u001b[34mINFO    \u001b[0m Checking for saved state                                          \u001b]8;id=535762;file:///Volumes/Data/projects/log-analysis-system/.venv/lib/python3.9/site-packages/drain3/template_miner.py\u001b\\\u001b[2mtemplate_miner.py\u001b[0m\u001b]8;;\u001b\\\u001b[2m:\u001b[0m\u001b]8;id=837625;file:///Volumes/Data/projects/log-analysis-system/.venv/lib/python3.9/site-packages/drain3/template_miner.py#70\u001b\\\u001b[2m70\u001b[0m\u001b]8;;\u001b\\\n"
      ]
     },
     "metadata": {},
     "output_type": "display_data"
    },
    {
     "data": {
      "text/html": [
       "<pre style=\"white-space:pre;overflow-x:auto;line-height:normal;font-family:Menlo,'DejaVu Sans Mono',consolas,'Courier New',monospace\"><span style=\"color: #7fbfbf; text-decoration-color: #7fbfbf\">                    </span><span style=\"color: #000080; text-decoration-color: #000080\">INFO    </span> Restored <span style=\"color: #008080; text-decoration-color: #008080; font-weight: bold\">142</span> clusters built from <span style=\"color: #008080; text-decoration-color: #008080; font-weight: bold\">4179</span> messages                    <a href=\"file:///Volumes/Data/projects/log-analysis-system/.venv/lib/python3.9/site-packages/drain3/template_miner.py\" target=\"_blank\"><span style=\"color: #7f7f7f; text-decoration-color: #7f7f7f\">template_miner.py</span></a><span style=\"color: #7f7f7f; text-decoration-color: #7f7f7f\">:</span><a href=\"file:///Volumes/Data/projects/log-analysis-system/.venv/lib/python3.9/site-packages/drain3/template_miner.py#96\" target=\"_blank\"><span style=\"color: #7f7f7f; text-decoration-color: #7f7f7f\">96</span></a>\n",
       "</pre>\n"
      ],
      "text/plain": [
       "\u001b[2;36m                   \u001b[0m\u001b[2;36m \u001b[0m\u001b[34mINFO    \u001b[0m Restored \u001b[1;36m142\u001b[0m clusters built from \u001b[1;36m4179\u001b[0m messages                    \u001b]8;id=532070;file:///Volumes/Data/projects/log-analysis-system/.venv/lib/python3.9/site-packages/drain3/template_miner.py\u001b\\\u001b[2mtemplate_miner.py\u001b[0m\u001b]8;;\u001b\\\u001b[2m:\u001b[0m\u001b]8;id=178291;file:///Volumes/Data/projects/log-analysis-system/.venv/lib/python3.9/site-packages/drain3/template_miner.py#96\u001b\\\u001b[2m96\u001b[0m\u001b]8;;\u001b\\\n"
      ]
     },
     "metadata": {},
     "output_type": "display_data"
    }
   ],
   "source": [
    "# Config drain3\n",
    "persistence = FilePersistence(config.DRAIN3_FILE_PERSISTENCE)\n",
    "drain_config = TemplateMinerConfig()\n",
    "drain_config.load(config.DRAIN3_CONFIG)\n",
    "drain_config.profiling_enabled = True\n",
    "template_miner = TemplateMiner(persistence, drain_config)"
   ]
  },
  {
   "attachments": {},
   "cell_type": "markdown",
   "metadata": {},
   "source": [
    "## Training Drain3"
   ]
  },
  {
   "cell_type": "code",
   "execution_count": 29,
   "metadata": {},
   "outputs": [],
   "source": [
    "def preprocess_logs(line):\n",
    "    line = line.rstrip()\n",
    "    line_split = line.split(\" \")\n",
    "    label = line_split[0]\n",
    "    timestamp = line_split[4]\n",
    "    content = \" \".join(line_split[6:])\n",
    "    return label, timestamp, content"
   ]
  },
  {
   "cell_type": "code",
   "execution_count": 30,
   "metadata": {},
   "outputs": [
    {
     "name": "stderr",
     "output_type": "stream",
     "text": [
      "100%|██████████| 2000/2000 [00:00<00:00, 17060.21it/s]\n"
     ]
    }
   ],
   "source": [
    "import requests\n",
    "from tqdm import tqdm\n",
    "\n",
    "lines = []\n",
    "response = requests.get(config.BGL_LOG_URL)\n",
    "if response.status_code == 200:\n",
    "    content = response.text\n",
    "    for line in tqdm(content.splitlines()):\n",
    "        lines.append(line)\n",
    "        label, timestamp, content = preprocess_logs(line)\n",
    "        template_miner.add_log_message(content)"
   ]
  },
  {
   "cell_type": "code",
   "execution_count": 31,
   "metadata": {},
   "outputs": [
    {
     "data": {
      "text/plain": [
       "2000"
      ]
     },
     "execution_count": 31,
     "metadata": {},
     "output_type": "execute_result"
    }
   ],
   "source": [
    "len(lines)"
   ]
  },
  {
   "attachments": {},
   "cell_type": "markdown",
   "metadata": {},
   "source": [
    "## Parser logs"
   ]
  },
  {
   "cell_type": "code",
   "execution_count": 32,
   "metadata": {},
   "outputs": [
    {
     "name": "stderr",
     "output_type": "stream",
     "text": [
      "100%|██████████| 2000/2000 [00:00<00:00, 10608.39it/s]"
     ]
    },
    {
     "name": "stdout",
     "output_type": "stream",
     "text": [
      "Number of parsed lines: 2000\n"
     ]
    },
    {
     "name": "stderr",
     "output_type": "stream",
     "text": [
      "\n"
     ]
    }
   ],
   "source": [
    "result = {\n",
    "    \"label\": [],\n",
    "    \"timestamp\": [],\n",
    "    \"id\": [],\n",
    "    \"template\": [],\n",
    "    \"parameters\": [],\n",
    "}\n",
    "numline = 0\n",
    "for line in tqdm(lines):\n",
    "    label, timestamp, content = preprocess_logs(line)\n",
    "    parsed_log = template_miner.match(content)\n",
    "    if parsed_log is None:\n",
    "        print(f\"Failed to parse: {content}\")\n",
    "        continue\n",
    "    numline += 1\n",
    "    template = parsed_log.get_template()\n",
    "    result[\"label\"].append(label)\n",
    "    result[\"timestamp\"].append(timestamp)\n",
    "    result[\"id\"].append(parsed_log.cluster_id)\n",
    "    result[\"template\"].append(template)\n",
    "    result[\"parameters\"].append(template_miner.get_parameter_list(template, line))\n",
    "\n",
    "print(f\"Number of parsed lines: {numline}\")"
   ]
  },
  {
   "cell_type": "code",
   "execution_count": 33,
   "metadata": {},
   "outputs": [
    {
     "data": {
      "text/html": [
       "<div>\n",
       "<style scoped>\n",
       "    .dataframe tbody tr th:only-of-type {\n",
       "        vertical-align: middle;\n",
       "    }\n",
       "\n",
       "    .dataframe tbody tr th {\n",
       "        vertical-align: top;\n",
       "    }\n",
       "\n",
       "    .dataframe thead th {\n",
       "        text-align: right;\n",
       "    }\n",
       "</style>\n",
       "<table border=\"1\" class=\"dataframe\">\n",
       "  <thead>\n",
       "    <tr style=\"text-align: right;\">\n",
       "      <th></th>\n",
       "      <th>label</th>\n",
       "      <th>timestamp</th>\n",
       "      <th>id</th>\n",
       "      <th>template</th>\n",
       "      <th>parameters</th>\n",
       "    </tr>\n",
       "  </thead>\n",
       "  <tbody>\n",
       "    <tr>\n",
       "      <th>0</th>\n",
       "      <td>-</td>\n",
       "      <td>2005-06-03-15.42.50.675872</td>\n",
       "      <td>1</td>\n",
       "      <td>RAS KERNEL INFO instruction cache parity error...</td>\n",
       "      <td>[]</td>\n",
       "    </tr>\n",
       "    <tr>\n",
       "      <th>1</th>\n",
       "      <td>-</td>\n",
       "      <td>2005-06-03-15.42.53.276129</td>\n",
       "      <td>1</td>\n",
       "      <td>RAS KERNEL INFO instruction cache parity error...</td>\n",
       "      <td>[]</td>\n",
       "    </tr>\n",
       "    <tr>\n",
       "      <th>2</th>\n",
       "      <td>-</td>\n",
       "      <td>2005-06-03-15.49.36.156884</td>\n",
       "      <td>1</td>\n",
       "      <td>RAS KERNEL INFO instruction cache parity error...</td>\n",
       "      <td>[]</td>\n",
       "    </tr>\n",
       "    <tr>\n",
       "      <th>3</th>\n",
       "      <td>-</td>\n",
       "      <td>2005-06-03-15.49.38.026704</td>\n",
       "      <td>1</td>\n",
       "      <td>RAS KERNEL INFO instruction cache parity error...</td>\n",
       "      <td>[]</td>\n",
       "    </tr>\n",
       "    <tr>\n",
       "      <th>4</th>\n",
       "      <td>-</td>\n",
       "      <td>2005-06-03-16.47.20.730545</td>\n",
       "      <td>2</td>\n",
       "      <td>RAS KERNEL INFO &lt;:*:&gt; &lt;:*:&gt; &lt;:*:&gt; &lt;:*:&gt;</td>\n",
       "      <td>[]</td>\n",
       "    </tr>\n",
       "    <tr>\n",
       "      <th>5</th>\n",
       "      <td>-</td>\n",
       "      <td>2005-06-03-16.56.14.254137</td>\n",
       "      <td>2</td>\n",
       "      <td>RAS KERNEL INFO &lt;:*:&gt; &lt;:*:&gt; &lt;:*:&gt; &lt;:*:&gt;</td>\n",
       "      <td>[]</td>\n",
       "    </tr>\n",
       "    <tr>\n",
       "      <th>6</th>\n",
       "      <td>-</td>\n",
       "      <td>2005-06-03-16.56.55.309974</td>\n",
       "      <td>2</td>\n",
       "      <td>RAS KERNEL INFO &lt;:*:&gt; &lt;:*:&gt; &lt;:*:&gt; &lt;:*:&gt;</td>\n",
       "      <td>[]</td>\n",
       "    </tr>\n",
       "    <tr>\n",
       "      <th>7</th>\n",
       "      <td>-</td>\n",
       "      <td>2005-06-03-18.21.59.871925</td>\n",
       "      <td>3</td>\n",
       "      <td>RAS KERNEL INFO CE sym &lt;:NUM:&gt;, at &lt;:HEX:&gt;, ma...</td>\n",
       "      <td>[]</td>\n",
       "    </tr>\n",
       "    <tr>\n",
       "      <th>8</th>\n",
       "      <td>APPREAD</td>\n",
       "      <td>2005-06-04-00.24.32.432192</td>\n",
       "      <td>4</td>\n",
       "      <td>RAS APP FATAL ciod: failed to read message pre...</td>\n",
       "      <td>[]</td>\n",
       "    </tr>\n",
       "    <tr>\n",
       "      <th>9</th>\n",
       "      <td>APPREAD</td>\n",
       "      <td>2005-06-04-00.24.36.222560</td>\n",
       "      <td>4</td>\n",
       "      <td>RAS APP FATAL ciod: failed to read message pre...</td>\n",
       "      <td>[]</td>\n",
       "    </tr>\n",
       "  </tbody>\n",
       "</table>\n",
       "</div>"
      ],
      "text/plain": [
       "     label                   timestamp  id  \\\n",
       "0        -  2005-06-03-15.42.50.675872   1   \n",
       "1        -  2005-06-03-15.42.53.276129   1   \n",
       "2        -  2005-06-03-15.49.36.156884   1   \n",
       "3        -  2005-06-03-15.49.38.026704   1   \n",
       "4        -  2005-06-03-16.47.20.730545   2   \n",
       "5        -  2005-06-03-16.56.14.254137   2   \n",
       "6        -  2005-06-03-16.56.55.309974   2   \n",
       "7        -  2005-06-03-18.21.59.871925   3   \n",
       "8  APPREAD  2005-06-04-00.24.32.432192   4   \n",
       "9  APPREAD  2005-06-04-00.24.36.222560   4   \n",
       "\n",
       "                                            template parameters  \n",
       "0  RAS KERNEL INFO instruction cache parity error...         []  \n",
       "1  RAS KERNEL INFO instruction cache parity error...         []  \n",
       "2  RAS KERNEL INFO instruction cache parity error...         []  \n",
       "3  RAS KERNEL INFO instruction cache parity error...         []  \n",
       "4            RAS KERNEL INFO <:*:> <:*:> <:*:> <:*:>         []  \n",
       "5            RAS KERNEL INFO <:*:> <:*:> <:*:> <:*:>         []  \n",
       "6            RAS KERNEL INFO <:*:> <:*:> <:*:> <:*:>         []  \n",
       "7  RAS KERNEL INFO CE sym <:NUM:>, at <:HEX:>, ma...         []  \n",
       "8  RAS APP FATAL ciod: failed to read message pre...         []  \n",
       "9  RAS APP FATAL ciod: failed to read message pre...         []  "
      ]
     },
     "execution_count": 33,
     "metadata": {},
     "output_type": "execute_result"
    }
   ],
   "source": [
    "import pandas as pd \n",
    "\n",
    "template_df = pd.DataFrame(result)\n",
    "template_df.head(10)"
   ]
  },
  {
   "cell_type": "code",
   "execution_count": 34,
   "metadata": {},
   "outputs": [
    {
     "data": {
      "text/plain": [
       "'RAS KERNEL INFO CE sym <:NUM:>, at <:HEX:>, mask <:HEX:>'"
      ]
     },
     "execution_count": 34,
     "metadata": {},
     "output_type": "execute_result"
    }
   ],
   "source": [
    "template_df['template'][7]"
   ]
  },
  {
   "cell_type": "code",
   "execution_count": null,
   "metadata": {},
   "outputs": [],
   "source": []
  }
 ],
 "metadata": {
  "kernelspec": {
   "display_name": "Python 3",
   "language": "python",
   "name": "python3"
  },
  "language_info": {
   "codemirror_mode": {
    "name": "ipython",
    "version": 3
   },
   "file_extension": ".py",
   "mimetype": "text/x-python",
   "name": "python",
   "nbconvert_exporter": "python",
   "pygments_lexer": "ipython3",
   "version": "3.9.16"
  },
  "orig_nbformat": 4
 },
 "nbformat": 4,
 "nbformat_minor": 2
}
